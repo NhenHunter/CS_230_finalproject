{
 "cells": [
  {
   "cell_type": "code",
   "execution_count": null,
   "id": "54894ff8",
   "metadata": {},
   "outputs": [],
   "source": [
    "#necessary imports for running a gradient boosting classifier \n",
    "\n",
    "from sklearn.neural_network import MLPClassifier\n",
    "import pandas as pd\n",
    "import numpy as np\n",
    "from sklearn.datasets import make_classification\n",
    "from sklearn.model_selection import train_test_split\n",
    "from sklearn.metrics import average_precision_score\n",
    "from sklearn import metrics\n",
    "from sklearn.metrics import roc_curve, auc\n",
    "\n",
    "from sklearn.metrics import average_precision_score\n",
    "from sklearn.metrics import recall_score\n",
    "from sklearn.metrics import roc_auc_score\n",
    "from sklearn.metrics import f1_score\n",
    "\n",
    "import matplotlib.pyplot as plt\n",
    "from sklearn.datasets import make_classification\n",
    "from sklearn.metrics import RocCurveDisplay\n",
    "from sklearn.svm import SVC"
   ]
  },
  {
   "cell_type": "code",
   "execution_count": null,
   "id": "b187a76a",
   "metadata": {},
   "outputs": [],
   "source": [
    "#import matrix\n",
    "matrix = pd.read_csv('/home/nhen/gwas_001_matrix_chr1_22_final.csv', sep=',', header=None, low_memory=False)"
   ]
  },
  {
   "cell_type": "code",
   "execution_count": null,
   "id": "59bc7712",
   "metadata": {},
   "outputs": [],
   "source": [
    "#reconstruct matrices into formats that are parsible \n",
    "#necessary format for train_test_split\n",
    "matrix_re = matrix.transpose()\n",
    "new_df = matrix_re.dropna()\n",
    "matrix_re = matrix.transpose()\n",
    "matrix_noNA = matrix_re.dropna()\n",
    "data_labeled = matrix_noNA.transpose()\n",
    "data = data_labeled.drop(data_labeled.columns[[0]], axis=1)\n"
   ]
  },
  {
   "cell_type": "code",
   "execution_count": null,
   "id": "dcfa193e",
   "metadata": {},
   "outputs": [],
   "source": [
    "#pull out labels from full matrix and store y\n",
    "y = data.iloc[3] #builds object of only phenotype\n",
    "y = pd.DataFrame(y) #turns into dataframe\n",
    "y = y.astype(int)\n",
    "y = y.subtract(1)"
   ]
  },
  {
   "cell_type": "code",
   "execution_count": null,
   "id": "a782e8cc",
   "metadata": {},
   "outputs": [],
   "source": [
    "#pull out allele frequencies from full matrix and store X\n",
    "X = data.iloc[17:] #builds df of chrs on (post population info)\n",
    "X = X.transpose()"
   ]
  },
  {
   "cell_type": "code",
   "execution_count": null,
   "id": "e22d10ba",
   "metadata": {},
   "outputs": [],
   "source": [
    "#split X and y into train and test\n",
    "X_train, X_test, y_train, y_test = train_test_split(X, y, test_size = .3, stratify=y, random_state=1)"
   ]
  },
  {
   "cell_type": "code",
   "execution_count": null,
   "id": "b1866ee8",
   "metadata": {},
   "outputs": [],
   "source": [
    "##set classifier and run Gradient Boosting program from scikit learn\n",
    "#parameters batch_size, hidden_layer_sizes, max_iter, alpha, and activation were changed and metrics checked before finding and choosing highest accuracy and AUC\n",
    "#fit to test and train data\n",
    "clf = MLPClassifier(random_state=1, batch_size = 1024, max_iter=500, alpha=1e-5, hidden_layer_sizes=(8,8,8,8,8,8,8), activation = \"logistic\").fit(X_train, y_train.values.ravel())"
   ]
  },
  {
   "cell_type": "code",
   "execution_count": null,
   "id": "6582bf57",
   "metadata": {},
   "outputs": [],
   "source": [
    "#call classifier and predict probabilities\n",
    "clf.predict_proba(X_test)"
   ]
  },
  {
   "cell_type": "code",
   "execution_count": null,
   "id": "29c44459",
   "metadata": {},
   "outputs": [],
   "source": [
    "#predict test values\n",
    "clf.predict(X_test)"
   ]
  },
  {
   "cell_type": "code",
   "execution_count": null,
   "id": "b2c86a42",
   "metadata": {},
   "outputs": [],
   "source": [
    "#accuracy score\n",
    "clf.score(X_test, y_test)"
   ]
  },
  {
   "cell_type": "code",
   "execution_count": null,
   "id": "6c06bcc3",
   "metadata": {},
   "outputs": [],
   "source": [
    "#create AUC methods\n",
    "fpr2, tpr2, threshold = roc_curve(y_test, clf.predict_proba(X_test)[:,1])"
   ]
  },
  {
   "cell_type": "code",
   "execution_count": null,
   "id": "2e5c16ee",
   "metadata": {},
   "outputs": [],
   "source": [
    "#prints AUC\n",
    "print(metrics.auc(fpr2, tpr2))"
   ]
  },
  {
   "cell_type": "code",
   "execution_count": null,
   "id": "1a974ae1",
   "metadata": {},
   "outputs": [],
   "source": [
    "#for ROC curve\n",
    "clf2 = SVC(random_state=1).fit(X_train, y_train.values.ravel())\n",
    "y_pred = clf2.decision_function(X_test)\n",
    "RocCurveDisplay.from_predictions(y_test, y_pred)"
   ]
  }
 ],
 "metadata": {
  "kernelspec": {
   "display_name": "Python 3 (ipykernel)",
   "language": "python",
   "name": "python3"
  },
  "language_info": {
   "codemirror_mode": {
    "name": "ipython",
    "version": 3
   },
   "file_extension": ".py",
   "mimetype": "text/x-python",
   "name": "python",
   "nbconvert_exporter": "python",
   "pygments_lexer": "ipython3",
   "version": "3.9.10"
  }
 },
 "nbformat": 4,
 "nbformat_minor": 5
}
