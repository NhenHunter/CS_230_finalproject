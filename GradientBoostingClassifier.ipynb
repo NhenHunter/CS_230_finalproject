{
 "cells": [
  {
   "cell_type": "code",
   "execution_count": null,
   "id": "0360ec48",
   "metadata": {},
   "outputs": [],
   "source": [
    "#necessary imports for running a gradient boosting classifier \n",
    "from sklearn.datasets import make_hastie_10_2\n",
    "from sklearn.ensemble import GradientBoostingClassifier\n",
    "import numpy as np\n",
    "import pandas as pd\n",
    "from sklearn.model_selection import train_test_split\n",
    "\n",
    "from sklearn.ensemble import GradientBoostingClassifier\n",
    "from sklearn.metrics import classification_report, confusion_matrix, roc_curve, auc\n"
   ]
  },
  {
   "cell_type": "code",
   "execution_count": null,
   "id": "aa6baeb0",
   "metadata": {},
   "outputs": [],
   "source": [
    "#import matrix\n",
    "matrix = pd.read_csv('/home/nhen/gwas_005_matrix_chr1_22_LDclumped_r2.1.csv', sep=',', header=None, low_memory=False)"
   ]
  },
  {
   "cell_type": "code",
   "execution_count": null,
   "id": "9537a35d",
   "metadata": {},
   "outputs": [],
   "source": [
    "#reconstruct matrices into formats that are parsible \n",
    "#necessary format for train_test_split\n",
    "matrix_re = matrix.transpose()\n",
    "new_df = matrix_re.dropna()\n",
    "matrix_re = matrix.transpose()\n",
    "matrix_noNA = matrix_re.dropna()\n",
    "data_labeled = matrix_noNA.transpose()\n",
    "data = data_labeled.drop(data_labeled.columns[[0]], axis=1)\n"
   ]
  },
  {
   "cell_type": "code",
   "execution_count": null,
   "id": "66d11381",
   "metadata": {},
   "outputs": [],
   "source": [
    "#pull out labels from full matrix and store y\n",
    "y = data.iloc[3] #builds object of only phenotype\n",
    "y = pd.DataFrame(y) #turns into dataframe\n",
    "y = y.astype(int)\n",
    "#y = y.subtract(1)"
   ]
  },
  {
   "cell_type": "code",
   "execution_count": null,
   "id": "abb7e362",
   "metadata": {},
   "outputs": [],
   "source": [
    "#pull out allele frequencies from full matrix and store X\n",
    "X = data.iloc[17:] #builds df of chrs on (post population info)\n",
    "X = X.transpose()"
   ]
  },
  {
   "cell_type": "code",
   "execution_count": null,
   "id": "ed64737e",
   "metadata": {},
   "outputs": [],
   "source": [
    "#split X and y into train and test\n",
    "X_train, X_test, y_train, y_test = train_test_split(X, y, test_size=0.3, random_state = 1)"
   ]
  },
  {
   "cell_type": "code",
   "execution_count": null,
   "id": "3a9856ca",
   "metadata": {},
   "outputs": [],
   "source": [
    "#set classifier and run Gradient Boosting program from scikit learn\n",
    "#parameters n_estimators, learning_rate and random state were changed and metrics checked before finding and choosing highest accuracy and AUC\n",
    "#fit to test and train data\n",
    "clf = GradientBoostingClassifier(n_estimators=100, learning_rate=1.0, max_depth=1, random_state=1).fit(X_train, y_train.values.ravel())"
   ]
  },
  {
   "cell_type": "code",
   "execution_count": null,
   "id": "ccd4c8c5",
   "metadata": {},
   "outputs": [],
   "source": [
    "#mean accuracy on x test and labels\n",
    "clf.score(X_test, y_test)"
   ]
  },
  {
   "cell_type": "code",
   "execution_count": null,
   "id": "de768cfc",
   "metadata": {},
   "outputs": [],
   "source": [
    "#mean accuracy on training data\n",
    "clf.score(X_train, y_train)"
   ]
  },
  {
   "cell_type": "code",
   "execution_count": null,
   "id": "66692af4",
   "metadata": {},
   "outputs": [],
   "source": [
    "#Predict confidence scores for samples. The confidence score for a sample is proportional to the signed distance of that sample to the hyperplane.\n",
    "print(clf.decision_function(X_test))"
   ]
  },
  {
   "cell_type": "code",
   "execution_count": null,
   "id": "9609fdc9",
   "metadata": {},
   "outputs": [],
   "source": [
    "#create validation split\n",
    "#changed random_state to see optimal performance\n",
    "X_train, X_validation, y_train, y_validation = train_test_split(X_train, y_train.values.ravel(), random_state=0)"
   ]
  },
  {
   "cell_type": "code",
   "execution_count": null,
   "id": "0a2398c8",
   "metadata": {},
   "outputs": [],
   "source": [
    "#create confusion matrix and report metrics precision, recall, f1\n",
    "gb = GradientBoostingClassifier(n_estimators=100, learning_rate = 0.5, max_depth = 2, random_state = 1)\n",
    "gb.fit(X_train, y_train)\n",
    "predictions = gb.predict(X_validation)\n",
    "\n",
    "print(\"Confusion Matrix:\")\n",
    "print(confusion_matrix(y_validation, predictions))\n",
    "print()\n",
    "print(\"Classification Report\")\n",
    "print(classification_report(y_validation, predictions))"
   ]
  },
  {
   "cell_type": "code",
   "execution_count": null,
   "id": "2d0bdadd",
   "metadata": {},
   "outputs": [],
   "source": [
    "#find AUC for ROC\n",
    "y_scores_gb = gb.decision_function(X_validation)\n",
    "fpr_gb, tpr_gb, _ = roc_curve(y_validation, y_scores_gb)\n",
    "roc_auc_gb = auc(fpr_gb, tpr_gb)\n",
    "\n",
    "print(\"Area under ROC curve = {:0.2f}\".format(roc_auc_gb))"
   ]
  },
  {
   "cell_type": "code",
   "execution_count": null,
   "id": "d2b34151",
   "metadata": {},
   "outputs": [],
   "source": []
  }
 ],
 "metadata": {
  "celltoolbar": "Raw Cell Format",
  "kernelspec": {
   "display_name": "Python 3 (ipykernel)",
   "language": "python",
   "name": "python3"
  },
  "language_info": {
   "codemirror_mode": {
    "name": "ipython",
    "version": 3
   },
   "file_extension": ".py",
   "mimetype": "text/x-python",
   "name": "python",
   "nbconvert_exporter": "python",
   "pygments_lexer": "ipython3",
   "version": "3.9.10"
  }
 },
 "nbformat": 4,
 "nbformat_minor": 5
}
